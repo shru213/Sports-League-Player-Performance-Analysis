{
 "cells": [
  {
   "cell_type": "markdown",
   "id": "632e8efc",
   "metadata": {},
   "source": [
    "## Problem Statement\n",
    "\n",
    "\n",
    "You are a data scientist working for a sports analytics company. The dataset, named **\"sports_league_data.csv\"** includes a variety of attributes for players in the league. The columns in the dataset are as follows:\n",
    "\n",
    "- **player_id:** A unique identifier for each player.\n",
    "- **age:** Age of the player.\n",
    "- **position:** The position the player typically plays in (e.g., Forward, Midfielder, Defender, Goalkeeper).\n",
    "- **team:** The team the player belongs to.\n",
    "- **games_played:** The total number of games played by the player in the season.\n",
    "- **player_rating:** An overall performance rating for the player for the season."
   ]
  },
  {
   "cell_type": "code",
   "execution_count": 36,
   "id": "e9c234f5",
   "metadata": {},
   "outputs": [],
   "source": [
    "import pandas as pd\n",
    "from matplotlib import pyplot as plt\n",
    "import seaborn as sns"
   ]
  },
  {
   "cell_type": "markdown",
   "id": "e80ff04b",
   "metadata": {},
   "source": [
    "## Task1\n",
    "\n",
    "1. Import the data from the \"sports_league_data.csv\" file.\n",
    "2. display the number of rows and columns. \n",
    "3. Display the first few rows of the dataset to get an overview.\n"
   ]
  },
  {
   "cell_type": "code",
   "execution_count": 9,
   "id": "c355cb68",
   "metadata": {},
   "outputs": [
    {
     "data": {
      "text/plain": [
       "((1000, 6),\n",
       "   player_id  age    position     team  games_played  player_rating\n",
       " 0     P0001   34     Forward  Team 14            29            7.2\n",
       " 1     P0002   29    Defender  Team 15            27            8.3\n",
       " 2     P0003   31  Goalkeeper   Team 4            39            6.4\n",
       " 3     P0004   36  Goalkeeper   Team 6            35            6.6\n",
       " 4     P0005   34    Defender  Team 14            26            7.2)"
      ]
     },
     "execution_count": 9,
     "metadata": {},
     "output_type": "execute_result"
    }
   ],
   "source": [
    "df = pd.read_csv(\"sports_league_data.csv\")\n",
    "df.shape, df.head()"
   ]
  },
  {
   "cell_type": "markdown",
   "id": "f865e3b1",
   "metadata": {},
   "source": [
    "## Task2:\n",
    "\n",
    "**Age Analysis:**\n",
    "- Mean: Calculate the average age of players in the league.\n",
    "- Standard Deviation Intervals:\n",
    "    - Calculate the age range within one standard deviation of the mean.\n",
    "    - Calculate the age range within two standard deviations of the mean.\n",
    "    - Calculate the age range within three standard deviations of the mean.\n",
    "  "
   ]
  },
  {
   "cell_type": "code",
   "execution_count": 26,
   "id": "6a8199fa",
   "metadata": {},
   "outputs": [
    {
     "name": "stdout",
     "output_type": "stream",
     "text": [
      "Mean of the age column is: 26.854\n",
      "The age range within one standard deviation of the mean:  [22.28, 31.43]\n",
      "The age range within two standard deviation of the mean:  [17.7, 36.0]\n",
      "The age range within three standard deviation of the mean:  [13.13, 40.58]\n"
     ]
    }
   ],
   "source": [
    "#display key statistical measures for age column.\n",
    "\n",
    "#1.mean\n",
    "mean = df.age.mean()\n",
    "print(\"Mean of the age column is:\", mean)\n",
    "\n",
    "#2.calculate standard deviation\n",
    "std = df.age.std()\n",
    "\n",
    "#3.age range within one standard deviation of the mean\n",
    "left1 = round(mean - std, 2)\n",
    "right1 = round(mean + std, 2)\n",
    "print(\"The age range within one standard deviation of the mean: \", [left1, right1])\n",
    "\n",
    "#4.age range within two standard deviation of the mean\n",
    "left2 = round(mean - 2*std, 2)\n",
    "right2 = round(mean + 2*std, 2)\n",
    "print(\"The age range within two standard deviation of the mean: \", [left2, right2])\n",
    "\n",
    "#5. age range within three standard deviation of the mean\n",
    "left3 = round(mean - 3*std, 2)\n",
    "right3 = round(mean + 3*std, 2)\n",
    "print(\"The age range within three standard deviation of the mean: \", [left3, right3])\n"
   ]
  },
  {
   "cell_type": "markdown",
   "id": "25ccac48",
   "metadata": {},
   "source": [
    "## Task3:\n",
    "\n",
    "**Player Rating Analysis:**\n",
    "- Mean: Determine the average player rating across the league.\n",
    "- Standard Deviation Intervals:\n",
    "    - Calculate the player rating range within one standard deviation of the mean.\n",
    "    - Calculate the player rating range within two standard deviations of the mean.\n",
    "    - Calculate the player rating range within three standard deviations of the mean."
   ]
  },
  {
   "cell_type": "code",
   "execution_count": 30,
   "id": "19d1a340",
   "metadata": {},
   "outputs": [
    {
     "name": "stdout",
     "output_type": "stream",
     "text": [
      "Mean of the player_rating column is: 6.6\n",
      "player_rating range within one standard deviation of the mean:  [5.1, 8.1]\n",
      "player_rating range within two standard deviation of the mean:  [3.6, 9.6]\n",
      "player_rating range within three standard deviation of the mean:  [2.1, 11.1]\n"
     ]
    }
   ],
   "source": [
    "#display key statistical measures for player rating column.\n",
    "\n",
    "#1.mean\n",
    "mean = round(df['player_rating'].mean(), 1)\n",
    "print(\"Mean of the player_rating column is:\", mean)\n",
    "\n",
    "#2.calculate standard deviation\n",
    "std = round(df['player_rating'].std(),1)\n",
    "\n",
    "#3.player_rating range within one standard deviation of the mean\n",
    "left1 = round(mean-std,2)\n",
    "right1 = round(mean+std,2)\n",
    "print(\"player_rating range within one standard deviation of the mean: \", [left1, right1])\n",
    "    \n",
    "#4.player_rating range within two standard deviation of the mean\n",
    "left2 = round(mean-2*std,2)\n",
    "right2 = round(mean+2*std,2)\n",
    "print(\"player_rating range within two standard deviation of the mean: \", [left2, right2])\n",
    "\n",
    "#4. player_rating range within three standard deviation of the mean\n",
    "left3 = round(mean-3*std,2)\n",
    "right3 = round(mean+3*std,2)\n",
    "print(\"player_rating range within three standard deviation of the mean: \", [left3, right3])"
   ]
  },
  {
   "cell_type": "markdown",
   "id": "9a1d87b7",
   "metadata": {},
   "source": [
    "## Task4:\n",
    "\n",
    "Create histogram with Kernel Density Estimation (KDE) plots for both the 'age' and 'player_rating' columns from the dataset. While constructing these plots, ensure to visually represent the standard deviation intervals on the graph.\n"
   ]
  },
  {
   "cell_type": "markdown",
   "id": "f23088ec",
   "metadata": {},
   "source": [
    "- **'age'**"
   ]
  },
  {
   "cell_type": "code",
   "execution_count": 37,
   "id": "46496dc6",
   "metadata": {},
   "outputs": [
    {
     "data": {
      "text/plain": [
       "<matplotlib.lines.Line2D at 0x2d0cca2edb0>"
      ]
     },
     "execution_count": 37,
     "metadata": {},
     "output_type": "execute_result"
    },
    {
     "data": {
      "image/png": "[encoded data removed]",
      "text/plain": [
       "<Figure size 640x480 with 1 Axes>"
      ]
     },
     "metadata": {},
     "output_type": "display_data"
    }
   ],
   "source": [
    "#stats for mean\n",
    "mean = int(df['age'].mean()) \n",
    "std = int(df['age'].std())\n",
    "\n",
    "sns.histplot(df.age, kde=True)\n",
    "\n",
    "plt.axvline(mean, color='k', linestyle='dashed', linewidth=1)\n",
    "\n",
    "# one stadard deviation\n",
    "plt.axvline(mean + std, color='r', linestyle='dashed', linewidth=1)\n",
    "plt.axvline(mean - std, color='r', linestyle='dashed', linewidth=1)\n",
    "\n",
    "# two standard deviation\n",
    "plt.axvline(mean + 2*std, color='g', linestyle='dashed', linewidth=1)\n",
    "plt.axvline(mean - 2*std, color='g', linestyle='dashed', linewidth=1)\n",
    "\n",
    "# three standard deviation\n",
    "plt.axvline(mean + 3*std, color='b', linestyle='dashed', linewidth=1)\n",
    "plt.axvline(mean - 3*std, color='b', linestyle='dashed', linewidth=1)"
   ]
  },
  {
   "cell_type": "markdown",
   "id": "d5796d1a",
   "metadata": {},
   "source": [
    "- **'player_rating'**"
   ]
  },
  {
   "cell_type": "code",
   "execution_count": 40,
   "id": "21b7ead2",
   "metadata": {},
   "outputs": [
    {
     "data": {
      "text/plain": [
       "<matplotlib.lines.Line2D at 0x2d0cd665370>"
      ]
     },
     "execution_count": 40,
     "metadata": {},
     "output_type": "execute_result"
    },
    {
     "data": {
      "image/png": "[encoded data removed]",
      "text/plain": [
       "<Figure size 640x480 with 1 Axes>"
      ]
     },
     "metadata": {},
     "output_type": "display_data"
    }
   ],
   "source": [
    "#stats for mean\n",
    "mean = round(df['player_rating'].mean(), 1)\n",
    "std = round(df['player_rating'].std(),1)\n",
    "\n",
    "sns.histplot(df.player_rating, kde=True)\n",
    "\n",
    "plt.axvline(mean, color='k', linestyle='dashed', linewidth=1)\n",
    "\n",
    "# one stadard deviation\n",
    "plt.axvline(mean + std, color='r', linestyle='dashed', linewidth=1)\n",
    "plt.axvline(mean - std, color='r', linestyle='dashed', linewidth=1)\n",
    "\n",
    "# two standard deviation\n",
    "plt.axvline(mean + 2*std, color='g', linestyle='dashed', linewidth=1)\n",
    "plt.axvline(mean - 2*std, color='g', linestyle='dashed', linewidth=1)\n",
    "\n",
    "# three standard deviation\n",
    "plt.axvline(mean + 3*std, color='b', linestyle='dashed', linewidth=1)\n",
    "plt.axvline(mean - 3*std, color='b', linestyle='dashed', linewidth=1)"
   ]
  },
  {
   "cell_type": "markdown",
   "id": "2ce87d11",
   "metadata": {},
   "source": [
    "## Task5\n",
    "\n",
    "- Calculate the lower and upper boundaries for the 'Age' and 'Player_Rating' columns. \n",
    "- For each column, identify values that fall outside the calculated lower and upper boundaries. These values are considered outliers."
   ]
  },
  {
   "cell_type": "markdown",
   "id": "3986392d",
   "metadata": {},
   "source": [
    "- **Display age outliers**"
   ]
  },
  {
   "cell_type": "code",
   "execution_count": 46,
   "id": "03f8e1c1",
   "metadata": {},
   "outputs": [
    {
     "data": {
      "text/html": [
       "<div>\n",
       "<style scoped>\n",
       "    .dataframe tbody tr th:only-of-type {\n",
       "        vertical-align: middle;\n",
       "    }\n",
       "\n",
       "    .dataframe tbody tr th {\n",
       "        vertical-align: top;\n",
       "    }\n",
       "\n",
       "    .dataframe thead th {\n",
       "        text-align: right;\n",
       "    }\n",
       "</style>\n",
       "<table border=\"1\" class=\"dataframe\">\n",
       "  <thead>\n",
       "    <tr style=\"text-align: right;\">\n",
       "      <th></th>\n",
       "      <th>player_id</th>\n",
       "      <th>age</th>\n",
       "      <th>position</th>\n",
       "      <th>team</th>\n",
       "      <th>games_played</th>\n",
       "      <th>player_rating</th>\n",
       "    </tr>\n",
       "  </thead>\n",
       "  <tbody>\n",
       "    <tr>\n",
       "      <th>0</th>\n",
       "      <td>P0001</td>\n",
       "      <td>34</td>\n",
       "      <td>Forward</td>\n",
       "      <td>Team 14</td>\n",
       "      <td>29</td>\n",
       "      <td>7.2</td>\n",
       "    </tr>\n",
       "    <tr>\n",
       "      <th>1</th>\n",
       "      <td>P0002</td>\n",
       "      <td>29</td>\n",
       "      <td>Defender</td>\n",
       "      <td>Team 15</td>\n",
       "      <td>27</td>\n",
       "      <td>8.3</td>\n",
       "    </tr>\n",
       "    <tr>\n",
       "      <th>2</th>\n",
       "      <td>P0003</td>\n",
       "      <td>31</td>\n",
       "      <td>Goalkeeper</td>\n",
       "      <td>Team 4</td>\n",
       "      <td>39</td>\n",
       "      <td>6.4</td>\n",
       "    </tr>\n",
       "    <tr>\n",
       "      <th>3</th>\n",
       "      <td>P0004</td>\n",
       "      <td>36</td>\n",
       "      <td>Goalkeeper</td>\n",
       "      <td>Team 6</td>\n",
       "      <td>35</td>\n",
       "      <td>6.6</td>\n",
       "    </tr>\n",
       "    <tr>\n",
       "      <th>4</th>\n",
       "      <td>P0005</td>\n",
       "      <td>34</td>\n",
       "      <td>Defender</td>\n",
       "      <td>Team 14</td>\n",
       "      <td>26</td>\n",
       "      <td>7.2</td>\n",
       "    </tr>\n",
       "    <tr>\n",
       "      <th>...</th>\n",
       "      <td>...</td>\n",
       "      <td>...</td>\n",
       "      <td>...</td>\n",
       "      <td>...</td>\n",
       "      <td>...</td>\n",
       "      <td>...</td>\n",
       "    </tr>\n",
       "    <tr>\n",
       "      <th>995</th>\n",
       "      <td>P0996</td>\n",
       "      <td>29</td>\n",
       "      <td>Defender</td>\n",
       "      <td>Team 19</td>\n",
       "      <td>22</td>\n",
       "      <td>7.6</td>\n",
       "    </tr>\n",
       "    <tr>\n",
       "      <th>996</th>\n",
       "      <td>P0997</td>\n",
       "      <td>26</td>\n",
       "      <td>Defender</td>\n",
       "      <td>Team 10</td>\n",
       "      <td>39</td>\n",
       "      <td>4.4</td>\n",
       "    </tr>\n",
       "    <tr>\n",
       "      <th>997</th>\n",
       "      <td>P0998</td>\n",
       "      <td>27</td>\n",
       "      <td>Forward</td>\n",
       "      <td>Team 8</td>\n",
       "      <td>40</td>\n",
       "      <td>6.4</td>\n",
       "    </tr>\n",
       "    <tr>\n",
       "      <th>998</th>\n",
       "      <td>P0999</td>\n",
       "      <td>22</td>\n",
       "      <td>Defender</td>\n",
       "      <td>Team 10</td>\n",
       "      <td>27</td>\n",
       "      <td>6.0</td>\n",
       "    </tr>\n",
       "    <tr>\n",
       "      <th>999</th>\n",
       "      <td>P1000</td>\n",
       "      <td>26</td>\n",
       "      <td>Defender</td>\n",
       "      <td>Team 9</td>\n",
       "      <td>34</td>\n",
       "      <td>7.2</td>\n",
       "    </tr>\n",
       "  </tbody>\n",
       "</table>\n",
       "<p>995 rows × 6 columns</p>\n",
       "</div>"
      ],
      "text/plain": [
       "    player_id  age    position     team  games_played  player_rating\n",
       "0       P0001   34     Forward  Team 14            29            7.2\n",
       "1       P0002   29    Defender  Team 15            27            8.3\n",
       "2       P0003   31  Goalkeeper   Team 4            39            6.4\n",
       "3       P0004   36  Goalkeeper   Team 6            35            6.6\n",
       "4       P0005   34    Defender  Team 14            26            7.2\n",
       "..        ...  ...         ...      ...           ...            ...\n",
       "995     P0996   29    Defender  Team 19            22            7.6\n",
       "996     P0997   26    Defender  Team 10            39            4.4\n",
       "997     P0998   27     Forward   Team 8            40            6.4\n",
       "998     P0999   22    Defender  Team 10            27            6.0\n",
       "999     P1000   26    Defender   Team 9            34            7.2\n",
       "\n",
       "[995 rows x 6 columns]"
      ]
     },
     "execution_count": 46,
     "metadata": {},
     "output_type": "execute_result"
    }
   ],
   "source": [
    "lower = round(mean - 3*std, 2)\n",
    "upper = round(mean + 3*std, 2)\n",
    "\n",
    "lower, upper\n",
    "\n",
    "outliers = df[(df.age < lower) | (df.age > upper)]\n",
    "outliers"
   ]
  },
  {
   "cell_type": "markdown",
   "id": "af6a0dec",
   "metadata": {},
   "source": [
    "- **Display player_rating outliers**"
   ]
  },
  {
   "cell_type": "code",
   "execution_count": 49,
   "id": "c024e12e",
   "metadata": {},
   "outputs": [
    {
     "data": {
      "text/html": [
       "<div>\n",
       "<style scoped>\n",
       "    .dataframe tbody tr th:only-of-type {\n",
       "        vertical-align: middle;\n",
       "    }\n",
       "\n",
       "    .dataframe tbody tr th {\n",
       "        vertical-align: top;\n",
       "    }\n",
       "\n",
       "    .dataframe thead th {\n",
       "        text-align: right;\n",
       "    }\n",
       "</style>\n",
       "<table border=\"1\" class=\"dataframe\">\n",
       "  <thead>\n",
       "    <tr style=\"text-align: right;\">\n",
       "      <th></th>\n",
       "      <th>player_id</th>\n",
       "      <th>age</th>\n",
       "      <th>position</th>\n",
       "      <th>team</th>\n",
       "      <th>games_played</th>\n",
       "      <th>player_rating</th>\n",
       "    </tr>\n",
       "  </thead>\n",
       "  <tbody>\n",
       "    <tr>\n",
       "      <th>32</th>\n",
       "      <td>P0033</td>\n",
       "      <td>23</td>\n",
       "      <td>Defender</td>\n",
       "      <td>Team 1</td>\n",
       "      <td>29</td>\n",
       "      <td>2.0</td>\n",
       "    </tr>\n",
       "    <tr>\n",
       "      <th>41</th>\n",
       "      <td>P0042</td>\n",
       "      <td>21</td>\n",
       "      <td>Goalkeeper</td>\n",
       "      <td>Team 19</td>\n",
       "      <td>27</td>\n",
       "      <td>13.0</td>\n",
       "    </tr>\n",
       "    <tr>\n",
       "      <th>96</th>\n",
       "      <td>P0097</td>\n",
       "      <td>27</td>\n",
       "      <td>Defender</td>\n",
       "      <td>Team 2</td>\n",
       "      <td>37</td>\n",
       "      <td>2.0</td>\n",
       "    </tr>\n",
       "    <tr>\n",
       "      <th>194</th>\n",
       "      <td>P0195</td>\n",
       "      <td>29</td>\n",
       "      <td>Forward</td>\n",
       "      <td>Team 6</td>\n",
       "      <td>33</td>\n",
       "      <td>1.0</td>\n",
       "    </tr>\n",
       "    <tr>\n",
       "      <th>212</th>\n",
       "      <td>P0213</td>\n",
       "      <td>30</td>\n",
       "      <td>Defender</td>\n",
       "      <td>Team 7</td>\n",
       "      <td>26</td>\n",
       "      <td>15.0</td>\n",
       "    </tr>\n",
       "    <tr>\n",
       "      <th>297</th>\n",
       "      <td>P0298</td>\n",
       "      <td>29</td>\n",
       "      <td>Goalkeeper</td>\n",
       "      <td>Team 17</td>\n",
       "      <td>31</td>\n",
       "      <td>2.0</td>\n",
       "    </tr>\n",
       "    <tr>\n",
       "      <th>301</th>\n",
       "      <td>P0302</td>\n",
       "      <td>34</td>\n",
       "      <td>Defender</td>\n",
       "      <td>Team 19</td>\n",
       "      <td>30</td>\n",
       "      <td>15.0</td>\n",
       "    </tr>\n",
       "    <tr>\n",
       "      <th>315</th>\n",
       "      <td>P0316</td>\n",
       "      <td>27</td>\n",
       "      <td>Midfielder</td>\n",
       "      <td>Team 15</td>\n",
       "      <td>28</td>\n",
       "      <td>13.0</td>\n",
       "    </tr>\n",
       "    <tr>\n",
       "      <th>387</th>\n",
       "      <td>P0388</td>\n",
       "      <td>21</td>\n",
       "      <td>Goalkeeper</td>\n",
       "      <td>Team 1</td>\n",
       "      <td>35</td>\n",
       "      <td>14.0</td>\n",
       "    </tr>\n",
       "    <tr>\n",
       "      <th>397</th>\n",
       "      <td>P0398</td>\n",
       "      <td>32</td>\n",
       "      <td>Midfielder</td>\n",
       "      <td>Team 4</td>\n",
       "      <td>34</td>\n",
       "      <td>14.0</td>\n",
       "    </tr>\n",
       "    <tr>\n",
       "      <th>438</th>\n",
       "      <td>P0439</td>\n",
       "      <td>30</td>\n",
       "      <td>Midfielder</td>\n",
       "      <td>Team 11</td>\n",
       "      <td>26</td>\n",
       "      <td>15.0</td>\n",
       "    </tr>\n",
       "    <tr>\n",
       "      <th>456</th>\n",
       "      <td>P0457</td>\n",
       "      <td>25</td>\n",
       "      <td>Forward</td>\n",
       "      <td>Team 4</td>\n",
       "      <td>27</td>\n",
       "      <td>12.0</td>\n",
       "    </tr>\n",
       "    <tr>\n",
       "      <th>649</th>\n",
       "      <td>P0650</td>\n",
       "      <td>33</td>\n",
       "      <td>Forward</td>\n",
       "      <td>Team 5</td>\n",
       "      <td>31</td>\n",
       "      <td>1.0</td>\n",
       "    </tr>\n",
       "    <tr>\n",
       "      <th>687</th>\n",
       "      <td>P0688</td>\n",
       "      <td>21</td>\n",
       "      <td>Defender</td>\n",
       "      <td>Team 20</td>\n",
       "      <td>31</td>\n",
       "      <td>2.0</td>\n",
       "    </tr>\n",
       "    <tr>\n",
       "      <th>698</th>\n",
       "      <td>P0699</td>\n",
       "      <td>28</td>\n",
       "      <td>Midfielder</td>\n",
       "      <td>Team 14</td>\n",
       "      <td>22</td>\n",
       "      <td>14.0</td>\n",
       "    </tr>\n",
       "    <tr>\n",
       "      <th>744</th>\n",
       "      <td>P0745</td>\n",
       "      <td>24</td>\n",
       "      <td>Forward</td>\n",
       "      <td>Team 8</td>\n",
       "      <td>22</td>\n",
       "      <td>15.0</td>\n",
       "    </tr>\n",
       "    <tr>\n",
       "      <th>881</th>\n",
       "      <td>P0882</td>\n",
       "      <td>23</td>\n",
       "      <td>Midfielder</td>\n",
       "      <td>Team 1</td>\n",
       "      <td>32</td>\n",
       "      <td>1.0</td>\n",
       "    </tr>\n",
       "    <tr>\n",
       "      <th>985</th>\n",
       "      <td>P0986</td>\n",
       "      <td>29</td>\n",
       "      <td>Forward</td>\n",
       "      <td>Team 15</td>\n",
       "      <td>37</td>\n",
       "      <td>12.0</td>\n",
       "    </tr>\n",
       "  </tbody>\n",
       "</table>\n",
       "</div>"
      ],
      "text/plain": [
       "    player_id  age    position     team  games_played  player_rating\n",
       "32      P0033   23    Defender   Team 1            29            2.0\n",
       "41      P0042   21  Goalkeeper  Team 19            27           13.0\n",
       "96      P0097   27    Defender   Team 2            37            2.0\n",
       "194     P0195   29     Forward   Team 6            33            1.0\n",
       "212     P0213   30    Defender   Team 7            26           15.0\n",
       "297     P0298   29  Goalkeeper  Team 17            31            2.0\n",
       "301     P0302   34    Defender  Team 19            30           15.0\n",
       "315     P0316   27  Midfielder  Team 15            28           13.0\n",
       "387     P0388   21  Goalkeeper   Team 1            35           14.0\n",
       "397     P0398   32  Midfielder   Team 4            34           14.0\n",
       "438     P0439   30  Midfielder  Team 11            26           15.0\n",
       "456     P0457   25     Forward   Team 4            27           12.0\n",
       "649     P0650   33     Forward   Team 5            31            1.0\n",
       "687     P0688   21    Defender  Team 20            31            2.0\n",
       "698     P0699   28  Midfielder  Team 14            22           14.0\n",
       "744     P0745   24     Forward   Team 8            22           15.0\n",
       "881     P0882   23  Midfielder   Team 1            32            1.0\n",
       "985     P0986   29     Forward  Team 15            37           12.0"
      ]
     },
     "execution_count": 49,
     "metadata": {},
     "output_type": "execute_result"
    }
   ],
   "source": [
    "lower = round(mean - 3*std, 2)\n",
    "upper = round(mean + 3*std, 2)\n",
    "\n",
    "lower, upper\n",
    "\n",
    "outliers = df[(df.player_rating < lower) | (df.player_rating > upper)]\n",
    "outliers"
   ]
  },
  {
   "cell_type": "markdown",
   "id": "cc71ab22",
   "metadata": {},
   "source": [
    "## Task6\n",
    "\n",
    "-  Remove outliers from both the 'age' and 'player_rating' columns and then visualize the adjusted data using histogram plots.\n"
   ]
  },
  {
   "cell_type": "code",
   "execution_count": 61,
   "id": "fef877cb",
   "metadata": {},
   "outputs": [],
   "source": [
    "#1.remove outliers for age\n",
    "\n",
    "mean = int(df['age'].mean()) \n",
    "std = int(df['age'].std())\n",
    "\n",
    "lower = mean - 3*std\n",
    "upper = mean + 3*std\n",
    "\n",
    "df = df[(df.age>lower)&(df.age<upper)]\n",
    "\n",
    "\n",
    "#2.remove outliers for player_rating\n",
    "mean = round(df['player_rating'].mean(),1) \n",
    "std = round(df['player_rating'].std(), 1)\n",
    "\n",
    "lower = mean - 3*std\n",
    "upper = mean + 3*std\n",
    "\n",
    "df = df[(df.player_rating>lower)&(df.player_rating<upper)]"
   ]
  },
  {
   "cell_type": "markdown",
   "id": "7cb10d56",
   "metadata": {},
   "source": [
    "- **plot the histograms**"
   ]
  },
  {
   "cell_type": "code",
   "execution_count": 63,
   "id": "7b7c1296",
   "metadata": {},
   "outputs": [
    {
     "data": {
      "text/plain": [
       "<Axes: xlabel='age', ylabel='Count'>"
      ]
     },
     "execution_count": 63,
     "metadata": {},
     "output_type": "execute_result"
    },
    {
     "data": {
      "image/png": "[encoded data removed]",
      "text/plain": [
       "<Figure size 640x480 with 1 Axes>"
      ]
     },
     "metadata": {},
     "output_type": "display_data"
    }
   ],
   "source": [
    "sns.histplot(df.age, kde = True)"
   ]
  },
  {
   "cell_type": "code",
   "execution_count": 65,
   "id": "82d081f0-7936-43d7-9ccc-6918c2d25be3",
   "metadata": {},
   "outputs": [
    {
     "data": {
      "text/plain": [
       "<Axes: xlabel='player_rating', ylabel='Count'>"
      ]
     },
     "execution_count": 65,
     "metadata": {},
     "output_type": "execute_result"
    },
    {
     "data": {
      "image/png": "[encoded data removed]",
      "text/plain": [
       "<Figure size 640x480 with 1 Axes>"
      ]
     },
     "metadata": {},
     "output_type": "display_data"
    }
   ],
   "source": [
    "sns.histplot(df.player_rating, kde = True)"
   ]
  },
  {
   "cell_type": "markdown",
   "id": "767e28b6-769b-4691-8ac4-5d8a079bd4fc",
   "metadata": {},
   "source": [
    "- Outliers are now gone and the histogram looks normal. It is a standard practice in the industry to use 3 standard deviation as a thresold to detect the outliers"
   ]
  },
  {
   "cell_type": "code",
   "execution_count": null,
   "id": "fb0590a3-7319-4166-8655-e2113027b4f5",
   "metadata": {},
   "outputs": [],
   "source": []
  }
 ],
 "metadata": {
  "kernelspec": {
   "display_name": "Python 3 (ipykernel)",
   "language": "python",
   "name": "python3"
  },
  "language_info": {
   "codemirror_mode": {
    "name": "ipython",
    "version": 3
   },
   "file_extension": ".py",
   "mimetype": "text/x-python",
   "name": "python",
   "nbconvert_exporter": "python",
   "pygments_lexer": "ipython3",
   "version": "3.12.4"
  }
 },
 "nbformat": 4,
 "nbformat_minor": 5
}
